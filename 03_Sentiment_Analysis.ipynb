{
 "cells": [
  {
   "cell_type": "code",
   "execution_count": 3,
   "id": "d4f7be51-800a-43ae-99bc-cd9b15143a8f",
   "metadata": {},
   "outputs": [],
   "source": [
    "import pandas as pd\n",
    "from vaderSentiment.vaderSentiment import SentimentIntensityAnalyzer"
   ]
  },
  {
   "cell_type": "code",
   "execution_count": 5,
   "id": "4d2e3e81-550b-4d7f-a86f-cf8dbc2f28bf",
   "metadata": {},
   "outputs": [],
   "source": [
    "netflix = pd.read_csv('subreddit_netflix_data.csv')\n",
    "disney = pd.read_csv('subreddit_DisneyPlus_data.csv')"
   ]
  },
  {
   "cell_type": "code",
   "execution_count": 7,
   "id": "03af0a5a-2e25-43d2-8146-0f33bed638df",
   "metadata": {},
   "outputs": [],
   "source": [
    "# Add platform labels\n",
    "netflix['platform'] = 'Netflix'\n",
    "disney['platform'] = 'Disney+'"
   ]
  },
  {
   "cell_type": "code",
   "execution_count": 9,
   "id": "38c8f2ed-7937-4e7c-9a3d-b2ea9ec3695e",
   "metadata": {},
   "outputs": [],
   "source": [
    "# Create Dataframe of all platforms\n",
    "df = pd.concat([netflix, disney])"
   ]
  },
  {
   "cell_type": "markdown",
   "id": "eb0fd9a7-718a-4d56-b358-67ae1f57b631",
   "metadata": {},
   "source": [
    "# Get sentiment scores from 'body' column"
   ]
  },
  {
   "cell_type": "code",
   "execution_count": 34,
   "id": "00b6b78f-ea42-48c7-86d3-e62552241e90",
   "metadata": {},
   "outputs": [
    {
     "data": {
      "text/plain": [
       "0      0.7959\n",
       "1     -0.1734\n",
       "2      0.1280\n",
       "3      0.7178\n",
       "4     -0.5318\n",
       "        ...  \n",
       "925    0.0000\n",
       "926    0.0000\n",
       "927   -0.6418\n",
       "928    0.0000\n",
       "929    0.5023\n",
       "Name: sentiment_body, Length: 1465, dtype: float64"
      ]
     },
     "execution_count": 34,
     "metadata": {},
     "output_type": "execute_result"
    }
   ],
   "source": [
    "# Get sentiment scores from 'body' column\n",
    "analyzer = SentimentIntensityAnalyzer()\n",
    "df['sentiment_body'] = df['body'].apply(lambda x: analyzer.polarity_scores(str(x))['compound'])\n",
    "df['sentiment_body']"
   ]
  },
  {
   "cell_type": "code",
   "execution_count": 36,
   "id": "fb5f8c27-2f2d-454e-9c1a-8ceafb7cec91",
   "metadata": {},
   "outputs": [
    {
     "data": {
      "text/plain": [
       "0       True\n",
       "1      False\n",
       "2       True\n",
       "3       True\n",
       "4      False\n",
       "       ...  \n",
       "925    False\n",
       "926    False\n",
       "927    False\n",
       "928    False\n",
       "929     True\n",
       "Name: is_positive_body, Length: 1465, dtype: bool"
      ]
     },
     "execution_count": 36,
     "metadata": {},
     "output_type": "execute_result"
    }
   ],
   "source": [
    "# Calculate if each sentiment is positive or not\n",
    "df['is_positive_body'] = df['sentiment_body'] > 0\n",
    "df['is_positive_body']"
   ]
  },
  {
   "cell_type": "code",
   "execution_count": null,
   "id": "2fb10935-f016-42ae-84b0-9432ba22590c",
   "metadata": {},
   "outputs": [],
   "source": [
    "# Create function that can indicate if the score is positive, neutral or negative\n",
    "# VADER's default thresholds would look something like this:\n",
    "def get_sentiment_category(score):\n",
    "    if score >= 0.05:\n",
    "        return 'positive'\n",
    "    elif score <= -0.05:\n",
    "        return 'negative'\n",
    "    else:\n",
    "        return 'neutral'"
   ]
  },
  {
   "cell_type": "code",
   "execution_count": 38,
   "id": "7c8855a3-24da-4cf8-bf01-cd3bee93c12b",
   "metadata": {},
   "outputs": [
    {
     "data": {
      "text/plain": [
       "0      positive\n",
       "1      negative\n",
       "2      positive\n",
       "3      positive\n",
       "4      negative\n",
       "         ...   \n",
       "925     neutral\n",
       "926     neutral\n",
       "927    negative\n",
       "928     neutral\n",
       "929    positive\n",
       "Name: sentiment_category_body, Length: 1465, dtype: object"
      ]
     },
     "execution_count": 38,
     "metadata": {},
     "output_type": "execute_result"
    }
   ],
   "source": [
    "# Apply get_sentiment_category function on sentiment score\n",
    "df['sentiment_category_body'] = df['sentiment_body'].apply(get_sentiment_category)\n",
    "df['sentiment_category_body']"
   ]
  },
  {
   "cell_type": "code",
   "execution_count": 21,
   "id": "109506c0-b558-40ea-9e70-54c6e6d8d6d7",
   "metadata": {},
   "outputs": [
    {
     "name": "stdout",
     "output_type": "stream",
     "text": [
      "Average Sentiment Score by Platform:\n",
      "platform\n",
      "Disney+    0.133633\n",
      "Netflix    0.107340\n",
      "Name: sentiment_body, dtype: float64\n",
      "\n",
      "Sentiment Distribution by Platform:\n",
      "sentiment_category_body  negative  neutral  positive\n",
      "platform                                            \n",
      "Disney+                       197      376       357\n",
      "Netflix                       147      163       225\n",
      "\n",
      "Percent Positive by Platform:\n",
      "platform\n",
      "Disney+    39.032258\n",
      "Netflix    42.429907\n",
      "Name: is_positive_body, dtype: float64\n",
      "\n",
      "Sentiment Percentages by Platform:\n",
      "sentiment_category_body  negative  neutral  positive\n",
      "platform                                            \n",
      "Disney+                     21.18    40.43     38.39\n",
      "Netflix                     27.48    30.47     42.06\n"
     ]
    }
   ],
   "source": [
    "# Result from Sentiment scores from 'body' column by Platform\n",
    "\n",
    "# Average Sentiment Score\n",
    "print(\"Average Sentiment Score by Platform:\")\n",
    "print(df.groupby('platform')['sentiment_body'].mean())\n",
    "\n",
    "# Sentiment Score Distribution\n",
    "print(\"\\nSentiment Distribution by Platform:\")\n",
    "print(df.groupby(['platform', 'sentiment_category_body']).size().unstack(fill_value=0))\n",
    "\n",
    "# Percent Positive Sentiment Score by Platform:\n",
    "print(\"\\nPercent Positive by Platform:\")\n",
    "print(df.groupby('platform')['is_positive_body'].mean() * 100)\n",
    "\n",
    "# Percentages of the three groups\n",
    "sentiment_pcts = df.groupby('platform')['sentiment_category_body'].value_counts(normalize=True).unstack() * 100\n",
    "print(\"\\nSentiment Percentages by Platform:\")\n",
    "print(sentiment_pcts.round(2))"
   ]
  },
  {
   "cell_type": "markdown",
   "id": "df1c372a-0b12-4701-b64e-2aef9206abf9",
   "metadata": {},
   "source": [
    "# Get sentiment scores from 'title' column"
   ]
  },
  {
   "cell_type": "code",
   "execution_count": 40,
   "id": "31b97edd-a890-454d-b2d5-a9efac03f181",
   "metadata": {},
   "outputs": [
    {
     "data": {
      "text/plain": [
       "0     -0.4019\n",
       "1      0.0000\n",
       "2     -0.2732\n",
       "3     -0.2960\n",
       "4     -0.4767\n",
       "        ...  \n",
       "925    0.0000\n",
       "926    0.0000\n",
       "927    0.0000\n",
       "928    0.0000\n",
       "929    0.2415\n",
       "Name: sentiment_title, Length: 1465, dtype: float64"
      ]
     },
     "execution_count": 40,
     "metadata": {},
     "output_type": "execute_result"
    }
   ],
   "source": [
    "# Get sentiment scores from 'title' column\n",
    "analyzer = SentimentIntensityAnalyzer()\n",
    "df['sentiment_title'] = df['title'].apply(lambda x: analyzer.polarity_scores(str(x))['compound'])\n",
    "df['sentiment_title']"
   ]
  },
  {
   "cell_type": "code",
   "execution_count": 46,
   "id": "612afe27-e733-43eb-b7e1-475ccecd32a2",
   "metadata": {},
   "outputs": [
    {
     "data": {
      "text/plain": [
       "0      False\n",
       "1      False\n",
       "2      False\n",
       "3      False\n",
       "4      False\n",
       "       ...  \n",
       "925    False\n",
       "926    False\n",
       "927    False\n",
       "928    False\n",
       "929     True\n",
       "Name: is_positive_title, Length: 1465, dtype: bool"
      ]
     },
     "execution_count": 46,
     "metadata": {},
     "output_type": "execute_result"
    }
   ],
   "source": [
    "# Calculate if each sentiment is positive or not\n",
    "# Should be expanded to handle pos/neu/neg instead\n",
    "df['is_positive_title'] = df['sentiment_title'] > 0\n",
    "df['is_positive_title']"
   ]
  },
  {
   "cell_type": "code",
   "execution_count": 51,
   "id": "a55e55c5-916b-468d-9021-fcec867283bc",
   "metadata": {},
   "outputs": [
    {
     "data": {
      "text/plain": [
       "0      negative\n",
       "1       neutral\n",
       "2      negative\n",
       "3      negative\n",
       "4      negative\n",
       "         ...   \n",
       "925     neutral\n",
       "926     neutral\n",
       "927     neutral\n",
       "928     neutral\n",
       "929    positive\n",
       "Name: sentiment_category_title, Length: 1465, dtype: object"
      ]
     },
     "execution_count": 51,
     "metadata": {},
     "output_type": "execute_result"
    }
   ],
   "source": [
    "# Apply get_sentiment_category function on sentiment score\n",
    "df['sentiment_category_title'] = df['sentiment_title'].apply(get_sentiment_category)\n",
    "df['sentiment_category_title']"
   ]
  },
  {
   "cell_type": "code",
   "execution_count": 53,
   "id": "58d149ec-5583-47b1-bfa0-5ab0b6d1edba",
   "metadata": {},
   "outputs": [
    {
     "name": "stdout",
     "output_type": "stream",
     "text": [
      "Average Sentiment Score by Platform:\n",
      "platform\n",
      "Disney+    0.042807\n",
      "Netflix   -0.016393\n",
      "Name: sentiment_title, dtype: float64\n",
      "\n",
      "Sentiment Distribution by Platform:\n",
      "sentiment_category_title  negative  neutral  positive\n",
      "platform                                             \n",
      "Disney+                        156      537       237\n",
      "Netflix                        133      278       124\n",
      "\n",
      "Percent Positive by Platform:\n",
      "platform\n",
      "Disney+    25.698925\n",
      "Netflix    23.364486\n",
      "Name: is_positive_title, dtype: float64\n",
      "\n",
      "Sentiment Percentages by Platform:\n",
      "sentiment_category_title  negative  neutral  positive\n",
      "platform                                             \n",
      "Disney+                      16.77    57.74     25.48\n",
      "Netflix                      24.86    51.96     23.18\n"
     ]
    }
   ],
   "source": [
    "# Result from Sentiment scores from 'title' column by Platform\n",
    "\n",
    "# Average Sentiment Score\n",
    "print(\"Average Sentiment Score by Platform:\")\n",
    "print(df.groupby('platform')['sentiment_title'].mean())\n",
    "\n",
    "# Sentiment Score Distribution\n",
    "print(\"\\nSentiment Distribution by Platform:\")\n",
    "print(df.groupby(['platform', 'sentiment_category_title']).size().unstack(fill_value=0))\n",
    "\n",
    "# Percent Positive Sentiment Score by Platform:\n",
    "print(\"\\nPercent Positive by Platform:\")\n",
    "print(df.groupby('platform')['is_positive_title'].mean() * 100)\n",
    "\n",
    "# Percentages of the three groups\n",
    "sentiment_pcts = df.groupby('platform')['sentiment_category_title'].value_counts(normalize=True).unstack() * 100\n",
    "print(\"\\nSentiment Percentages by Platform:\")\n",
    "print(sentiment_pcts.round(2))"
   ]
  }
 ],
 "metadata": {
  "kernelspec": {
   "display_name": "Python 3 (ipykernel)",
   "language": "python",
   "name": "python3"
  },
  "language_info": {
   "codemirror_mode": {
    "name": "ipython",
    "version": 3
   },
   "file_extension": ".py",
   "mimetype": "text/x-python",
   "name": "python",
   "nbconvert_exporter": "python",
   "pygments_lexer": "ipython3",
   "version": "3.12.4"
  }
 },
 "nbformat": 4,
 "nbformat_minor": 5
}
